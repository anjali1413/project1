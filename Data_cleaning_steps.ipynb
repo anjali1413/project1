{
 "cells": [
  {
   "cell_type": "code",
   "execution_count": 1,
   "id": "153d5682",
   "metadata": {},
   "outputs": [],
   "source": [
    "import numpy as np \n",
    "import pandas as pd\n",
    "import matplotlib.pyplot as plt  "
   ]
  },
  {
   "cell_type": "code",
   "execution_count": 2,
   "id": "d797bc83",
   "metadata": {},
   "outputs": [],
   "source": [
    "# loading aur CSV data \n",
    "data = pd.read_csv(\"C:/Users/Hp/Downloads/winemag-data-130k-v2.csv/winemag-data-130k-v2.csv\")"
   ]
  },
  {
   "cell_type": "code",
   "execution_count": 3,
   "id": "93627976",
   "metadata": {},
   "outputs": [
    {
     "data": {
      "text/plain": [
       "(129971, 14)"
      ]
     },
     "execution_count": 3,
     "metadata": {},
     "output_type": "execute_result"
    }
   ],
   "source": [
    "data.shape"
   ]
  },
  {
   "cell_type": "code",
   "execution_count": 4,
   "id": "3f269fb3",
   "metadata": {},
   "outputs": [
    {
     "name": "stdout",
     "output_type": "stream",
     "text": [
      "<class 'pandas.core.frame.DataFrame'>\n",
      "RangeIndex: 129971 entries, 0 to 129970\n",
      "Data columns (total 14 columns):\n",
      " #   Column                 Non-Null Count   Dtype  \n",
      "---  ------                 --------------   -----  \n",
      " 0   Unnamed: 0             129971 non-null  int64  \n",
      " 1   country                129908 non-null  object \n",
      " 2   description            129971 non-null  object \n",
      " 3   designation            92506 non-null   object \n",
      " 4   points                 129971 non-null  int64  \n",
      " 5   price                  120975 non-null  float64\n",
      " 6   province               129908 non-null  object \n",
      " 7   region_1               108724 non-null  object \n",
      " 8   region_2               50511 non-null   object \n",
      " 9   taster_name            103727 non-null  object \n",
      " 10  taster_twitter_handle  98758 non-null   object \n",
      " 11  title                  129971 non-null  object \n",
      " 12  variety                129970 non-null  object \n",
      " 13  winery                 129971 non-null  object \n",
      "dtypes: float64(1), int64(2), object(11)\n",
      "memory usage: 13.9+ MB\n"
     ]
    }
   ],
   "source": [
    "# checking the data type and null values present in which column \n",
    "data.info()"
   ]
  },
  {
   "cell_type": "code",
   "execution_count": null,
   "id": "75621a25",
   "metadata": {},
   "outputs": [],
   "source": []
  },
  {
   "cell_type": "code",
   "execution_count": 5,
   "id": "99693621",
   "metadata": {},
   "outputs": [],
   "source": [
    "# seperaing the numerical and categorical values fr better understanding\n",
    "cat_cols = data[data.dtypes[data.dtypes==\"object\"].index]\n",
    "num_cols = data[data.dtypes[data.dtypes!=\"object\"].index]"
   ]
  },
  {
   "cell_type": "code",
   "execution_count": 6,
   "id": "b184503b",
   "metadata": {},
   "outputs": [
    {
     "data": {
      "text/html": [
       "<div>\n",
       "<style scoped>\n",
       "    .dataframe tbody tr th:only-of-type {\n",
       "        vertical-align: middle;\n",
       "    }\n",
       "\n",
       "    .dataframe tbody tr th {\n",
       "        vertical-align: top;\n",
       "    }\n",
       "\n",
       "    .dataframe thead th {\n",
       "        text-align: right;\n",
       "    }\n",
       "</style>\n",
       "<table border=\"1\" class=\"dataframe\">\n",
       "  <thead>\n",
       "    <tr style=\"text-align: right;\">\n",
       "      <th></th>\n",
       "      <th>Unnamed: 0</th>\n",
       "      <th>points</th>\n",
       "      <th>price</th>\n",
       "    </tr>\n",
       "  </thead>\n",
       "  <tbody>\n",
       "    <tr>\n",
       "      <th>0</th>\n",
       "      <td>0</td>\n",
       "      <td>87</td>\n",
       "      <td>NaN</td>\n",
       "    </tr>\n",
       "    <tr>\n",
       "      <th>1</th>\n",
       "      <td>1</td>\n",
       "      <td>87</td>\n",
       "      <td>15.0</td>\n",
       "    </tr>\n",
       "  </tbody>\n",
       "</table>\n",
       "</div>"
      ],
      "text/plain": [
       "   Unnamed: 0  points  price\n",
       "0           0      87    NaN\n",
       "1           1      87   15.0"
      ]
     },
     "execution_count": 6,
     "metadata": {},
     "output_type": "execute_result"
    }
   ],
   "source": [
    "num_cols.head(2)"
   ]
  },
  {
   "cell_type": "code",
   "execution_count": 7,
   "id": "3a72ce1f",
   "metadata": {},
   "outputs": [
    {
     "data": {
      "text/html": [
       "<div>\n",
       "<style scoped>\n",
       "    .dataframe tbody tr th:only-of-type {\n",
       "        vertical-align: middle;\n",
       "    }\n",
       "\n",
       "    .dataframe tbody tr th {\n",
       "        vertical-align: top;\n",
       "    }\n",
       "\n",
       "    .dataframe thead th {\n",
       "        text-align: right;\n",
       "    }\n",
       "</style>\n",
       "<table border=\"1\" class=\"dataframe\">\n",
       "  <thead>\n",
       "    <tr style=\"text-align: right;\">\n",
       "      <th></th>\n",
       "      <th>country</th>\n",
       "      <th>description</th>\n",
       "      <th>designation</th>\n",
       "      <th>province</th>\n",
       "      <th>region_1</th>\n",
       "      <th>region_2</th>\n",
       "      <th>taster_name</th>\n",
       "      <th>taster_twitter_handle</th>\n",
       "      <th>title</th>\n",
       "      <th>variety</th>\n",
       "      <th>winery</th>\n",
       "    </tr>\n",
       "  </thead>\n",
       "  <tbody>\n",
       "    <tr>\n",
       "      <th>0</th>\n",
       "      <td>Italy</td>\n",
       "      <td>Aromas include tropical fruit, broom, brimston...</td>\n",
       "      <td>Vulkà Bianco</td>\n",
       "      <td>Sicily &amp; Sardinia</td>\n",
       "      <td>Etna</td>\n",
       "      <td>NaN</td>\n",
       "      <td>Kerin O’Keefe</td>\n",
       "      <td>@kerinokeefe</td>\n",
       "      <td>Nicosia 2013 Vulkà Bianco  (Etna)</td>\n",
       "      <td>White Blend</td>\n",
       "      <td>Nicosia</td>\n",
       "    </tr>\n",
       "    <tr>\n",
       "      <th>1</th>\n",
       "      <td>Portugal</td>\n",
       "      <td>This is ripe and fruity, a wine that is smooth...</td>\n",
       "      <td>Avidagos</td>\n",
       "      <td>Douro</td>\n",
       "      <td>NaN</td>\n",
       "      <td>NaN</td>\n",
       "      <td>Roger Voss</td>\n",
       "      <td>@vossroger</td>\n",
       "      <td>Quinta dos Avidagos 2011 Avidagos Red (Douro)</td>\n",
       "      <td>Portuguese Red</td>\n",
       "      <td>Quinta dos Avidagos</td>\n",
       "    </tr>\n",
       "  </tbody>\n",
       "</table>\n",
       "</div>"
      ],
      "text/plain": [
       "    country                                        description   designation  \\\n",
       "0     Italy  Aromas include tropical fruit, broom, brimston...  Vulkà Bianco   \n",
       "1  Portugal  This is ripe and fruity, a wine that is smooth...      Avidagos   \n",
       "\n",
       "            province region_1 region_2    taster_name taster_twitter_handle  \\\n",
       "0  Sicily & Sardinia     Etna      NaN  Kerin O’Keefe          @kerinokeefe   \n",
       "1              Douro      NaN      NaN     Roger Voss            @vossroger   \n",
       "\n",
       "                                           title         variety  \\\n",
       "0              Nicosia 2013 Vulkà Bianco  (Etna)     White Blend   \n",
       "1  Quinta dos Avidagos 2011 Avidagos Red (Douro)  Portuguese Red   \n",
       "\n",
       "                winery  \n",
       "0              Nicosia  \n",
       "1  Quinta dos Avidagos  "
      ]
     },
     "execution_count": 7,
     "metadata": {},
     "output_type": "execute_result"
    }
   ],
   "source": [
    "cat_cols.head(2)"
   ]
  },
  {
   "cell_type": "code",
   "execution_count": 8,
   "id": "e488ceaa",
   "metadata": {},
   "outputs": [
    {
     "data": {
      "text/plain": [
       "Unnamed: 0                   0\n",
       "country                     63\n",
       "description                  0\n",
       "designation              37465\n",
       "points                       0\n",
       "price                     8996\n",
       "province                    63\n",
       "region_1                 21247\n",
       "region_2                 79460\n",
       "taster_name              26244\n",
       "taster_twitter_handle    31213\n",
       "title                        0\n",
       "variety                      1\n",
       "winery                       0\n",
       "dtype: int64"
      ]
     },
     "execution_count": 8,
     "metadata": {},
     "output_type": "execute_result"
    }
   ],
   "source": [
    "data.isnull().sum()"
   ]
  },
  {
   "cell_type": "markdown",
   "id": "0fa8d0bd",
   "metadata": {},
   "source": [
    "1. Handling Missing Values\n",
    "Remove missing values if they are not needed.\n",
    "Impute missing values using mean, median, mode, or forward-fill/backward-fill methods.\n",
    "2. Removing Duplicates\n",
    "Identify and remove duplicate rows based on key columns.\n",
    "3. Correcting Data Types\n",
    "Convert columns to the correct data type (e.g., string to datetime, float to integer).\n",
    "4. Standardizing & Normalizing Data\n",
    "Convert text to lowercase, remove special characters.\n",
    "Normalize numerical values (e.g., Min-Max scaling, Z-score standardization).\n",
    "5. Handling Outliers\n",
    "Detect outliers using statistical methods (e.g., IQR, Z-score) and decide whether to remove or adjust them.\n",
    "6. Removing Unnecessary Columns\n",
    "Drop columns that do not contribute to analysis."
   ]
  },
  {
   "cell_type": "markdown",
   "id": "4b6a36f2",
   "metadata": {},
   "source": [
    "✅ Dropping columns with excessive missing data (>50%)\n",
    "\n",
    "✅ Filling missing values using mean, median, mode, or forward-fill/backward-fill methods\n",
    "\n",
    "✅ Predictive Imputation for better accuracy"
   ]
  },
  {
   "cell_type": "code",
   "execution_count": 9,
   "id": "1b7f9283",
   "metadata": {},
   "outputs": [],
   "source": [
    "# 1 checking the cols which hs more than 50% missing value \n"
   ]
  },
  {
   "cell_type": "code",
   "execution_count": 10,
   "id": "e3ea226e",
   "metadata": {},
   "outputs": [],
   "source": [
    "missing_percentage = (data.isnull().sum() / len(data)) * 100\n"
   ]
  },
  {
   "cell_type": "code",
   "execution_count": 11,
   "id": "252f9c91",
   "metadata": {},
   "outputs": [
    {
     "data": {
      "text/plain": [
       "Unnamed: 0                0.000000\n",
       "country                   0.048472\n",
       "description               0.000000\n",
       "designation              28.825661\n",
       "points                    0.000000\n",
       "price                     6.921544\n",
       "province                  0.048472\n",
       "region_1                 16.347493\n",
       "region_2                 61.136715\n",
       "taster_name              20.192197\n",
       "taster_twitter_handle    24.015357\n",
       "title                     0.000000\n",
       "variety                   0.000769\n",
       "winery                    0.000000\n",
       "dtype: float64"
      ]
     },
     "execution_count": 11,
     "metadata": {},
     "output_type": "execute_result"
    }
   ],
   "source": [
    "missing_percentage\n",
    "  #  as we can see region 2 has more than 50% of missing data "
   ]
  },
  {
   "cell_type": "code",
   "execution_count": 12,
   "id": "0c1d9111",
   "metadata": {},
   "outputs": [],
   "source": [
    "# Droping the column which has more than 50% of missing data \n",
    "cols_to_drop = missing_percentage[missing_percentage > 50].index.tolist()"
   ]
  },
  {
   "cell_type": "code",
   "execution_count": 13,
   "id": "157fb446",
   "metadata": {},
   "outputs": [],
   "source": [
    "data.drop(columns=cols_to_drop, inplace=True)"
   ]
  },
  {
   "cell_type": "code",
   "execution_count": 14,
   "id": "8a87215f",
   "metadata": {},
   "outputs": [
    {
     "data": {
      "text/plain": [
       "Unnamed: 0                   0\n",
       "country                     63\n",
       "description                  0\n",
       "designation              37465\n",
       "points                       0\n",
       "price                     8996\n",
       "province                    63\n",
       "region_1                 21247\n",
       "taster_name              26244\n",
       "taster_twitter_handle    31213\n",
       "title                        0\n",
       "variety                      1\n",
       "winery                       0\n",
       "dtype: int64"
      ]
     },
     "execution_count": 14,
     "metadata": {},
     "output_type": "execute_result"
    }
   ],
   "source": [
    "data.isnull().sum()"
   ]
  },
  {
   "cell_type": "code",
   "execution_count": 15,
   "id": "2e75b06b",
   "metadata": {},
   "outputs": [],
   "source": [
    "# handling missing values by seprated num_cold and cat_cols "
   ]
  },
  {
   "cell_type": "code",
   "execution_count": 16,
   "id": "fe493599",
   "metadata": {},
   "outputs": [
    {
     "data": {
      "text/plain": [
       "Unnamed: 0       0\n",
       "points           0\n",
       "price         8996\n",
       "dtype: int64"
      ]
     },
     "execution_count": 16,
     "metadata": {},
     "output_type": "execute_result"
    }
   ],
   "source": [
    "num_cols.isnull().sum()\n",
    "# only price will contain null values we can fill it either by mean, median , bfill,ffill"
   ]
  },
  {
   "cell_type": "code",
   "execution_count": 17,
   "id": "7d431158",
   "metadata": {},
   "outputs": [
    {
     "name": "stderr",
     "output_type": "stream",
     "text": [
      "C:\\Users\\Hp\\AppData\\Local\\Temp\\ipykernel_10940\\3943986546.py:1: SettingWithCopyWarning: \n",
      "A value is trying to be set on a copy of a slice from a DataFrame.\n",
      "Try using .loc[row_indexer,col_indexer] = value instead\n",
      "\n",
      "See the caveats in the documentation: https://pandas.pydata.org/pandas-docs/stable/user_guide/indexing.html#returning-a-view-versus-a-copy\n",
      "  num_cols.fillna(num_cols.median(),inplace=True)\n"
     ]
    }
   ],
   "source": [
    "num_cols.fillna(num_cols.median(),inplace=True)"
   ]
  },
  {
   "cell_type": "code",
   "execution_count": 18,
   "id": "4d69fe8c",
   "metadata": {},
   "outputs": [
    {
     "data": {
      "text/plain": [
       "Unnamed: 0    0\n",
       "points        0\n",
       "price         0\n",
       "dtype: int64"
      ]
     },
     "execution_count": 18,
     "metadata": {},
     "output_type": "execute_result"
    }
   ],
   "source": [
    "num_cols.isnull().sum()"
   ]
  },
  {
   "cell_type": "code",
   "execution_count": 19,
   "id": "a148d70b",
   "metadata": {},
   "outputs": [],
   "source": [
    "# handling missing values in cat_cols "
   ]
  },
  {
   "cell_type": "code",
   "execution_count": 20,
   "id": "daee83f0",
   "metadata": {},
   "outputs": [
    {
     "data": {
      "text/plain": [
       "country                     63\n",
       "description                  0\n",
       "designation              37465\n",
       "province                    63\n",
       "region_1                 21247\n",
       "region_2                 79460\n",
       "taster_name              26244\n",
       "taster_twitter_handle    31213\n",
       "title                        0\n",
       "variety                      1\n",
       "winery                       0\n",
       "dtype: int64"
      ]
     },
     "execution_count": 20,
     "metadata": {},
     "output_type": "execute_result"
    }
   ],
   "source": [
    "cat_cols.isnull().sum()"
   ]
  },
  {
   "cell_type": "code",
   "execution_count": 21,
   "id": "eedd8615",
   "metadata": {},
   "outputs": [],
   "source": [
    "cat_cols = cat_cols.fillna(method=\"ffill\")"
   ]
  },
  {
   "cell_type": "code",
   "execution_count": 22,
   "id": "1bc9766f",
   "metadata": {},
   "outputs": [
    {
     "data": {
      "text/plain": [
       "country                  0\n",
       "description              0\n",
       "designation              0\n",
       "province                 0\n",
       "region_1                 0\n",
       "region_2                 2\n",
       "taster_name              0\n",
       "taster_twitter_handle    0\n",
       "title                    0\n",
       "variety                  0\n",
       "winery                   0\n",
       "dtype: int64"
      ]
     },
     "execution_count": 22,
     "metadata": {},
     "output_type": "execute_result"
    }
   ],
   "source": [
    "cat_cols.isnull().sum()"
   ]
  },
  {
   "cell_type": "code",
   "execution_count": 23,
   "id": "015217bb",
   "metadata": {},
   "outputs": [],
   "source": [
    "# outlier treatment "
   ]
  },
  {
   "cell_type": "code",
   "execution_count": 24,
   "id": "fc63fd95",
   "metadata": {},
   "outputs": [
    {
     "data": {
      "text/html": [
       "<div>\n",
       "<style scoped>\n",
       "    .dataframe tbody tr th:only-of-type {\n",
       "        vertical-align: middle;\n",
       "    }\n",
       "\n",
       "    .dataframe tbody tr th {\n",
       "        vertical-align: top;\n",
       "    }\n",
       "\n",
       "    .dataframe thead th {\n",
       "        text-align: right;\n",
       "    }\n",
       "</style>\n",
       "<table border=\"1\" class=\"dataframe\">\n",
       "  <thead>\n",
       "    <tr style=\"text-align: right;\">\n",
       "      <th></th>\n",
       "      <th>count</th>\n",
       "      <th>mean</th>\n",
       "      <th>std</th>\n",
       "      <th>min</th>\n",
       "      <th>1%</th>\n",
       "      <th>4%</th>\n",
       "      <th>5%</th>\n",
       "      <th>40%</th>\n",
       "      <th>50%</th>\n",
       "      <th>75%</th>\n",
       "      <th>80%</th>\n",
       "      <th>90%</th>\n",
       "      <th>95%</th>\n",
       "      <th>96%</th>\n",
       "      <th>98%</th>\n",
       "      <th>99%</th>\n",
       "      <th>max</th>\n",
       "    </tr>\n",
       "  </thead>\n",
       "  <tbody>\n",
       "    <tr>\n",
       "      <th>Unnamed: 0</th>\n",
       "      <td>129971.0</td>\n",
       "      <td>64985.000000</td>\n",
       "      <td>37519.540256</td>\n",
       "      <td>0.0</td>\n",
       "      <td>1299.7</td>\n",
       "      <td>5198.8</td>\n",
       "      <td>6498.5</td>\n",
       "      <td>51988.0</td>\n",
       "      <td>64985.0</td>\n",
       "      <td>97477.5</td>\n",
       "      <td>103976.0</td>\n",
       "      <td>116973.0</td>\n",
       "      <td>123471.5</td>\n",
       "      <td>124771.2</td>\n",
       "      <td>127370.6</td>\n",
       "      <td>128670.3</td>\n",
       "      <td>129970.0</td>\n",
       "    </tr>\n",
       "    <tr>\n",
       "      <th>points</th>\n",
       "      <td>129971.0</td>\n",
       "      <td>88.447138</td>\n",
       "      <td>3.039730</td>\n",
       "      <td>80.0</td>\n",
       "      <td>82.0</td>\n",
       "      <td>83.0</td>\n",
       "      <td>84.0</td>\n",
       "      <td>88.0</td>\n",
       "      <td>88.0</td>\n",
       "      <td>91.0</td>\n",
       "      <td>91.0</td>\n",
       "      <td>92.0</td>\n",
       "      <td>93.0</td>\n",
       "      <td>94.0</td>\n",
       "      <td>94.0</td>\n",
       "      <td>95.0</td>\n",
       "      <td>100.0</td>\n",
       "    </tr>\n",
       "    <tr>\n",
       "      <th>price</th>\n",
       "      <td>129971.0</td>\n",
       "      <td>34.646083</td>\n",
       "      <td>39.664385</td>\n",
       "      <td>4.0</td>\n",
       "      <td>8.0</td>\n",
       "      <td>10.0</td>\n",
       "      <td>11.0</td>\n",
       "      <td>23.0</td>\n",
       "      <td>25.0</td>\n",
       "      <td>40.0</td>\n",
       "      <td>45.0</td>\n",
       "      <td>62.0</td>\n",
       "      <td>80.0</td>\n",
       "      <td>90.0</td>\n",
       "      <td>120.0</td>\n",
       "      <td>150.0</td>\n",
       "      <td>3300.0</td>\n",
       "    </tr>\n",
       "  </tbody>\n",
       "</table>\n",
       "</div>"
      ],
      "text/plain": [
       "               count          mean           std   min      1%      4%  \\\n",
       "Unnamed: 0  129971.0  64985.000000  37519.540256   0.0  1299.7  5198.8   \n",
       "points      129971.0     88.447138      3.039730  80.0    82.0    83.0   \n",
       "price       129971.0     34.646083     39.664385   4.0     8.0    10.0   \n",
       "\n",
       "                5%      40%      50%      75%       80%       90%       95%  \\\n",
       "Unnamed: 0  6498.5  51988.0  64985.0  97477.5  103976.0  116973.0  123471.5   \n",
       "points        84.0     88.0     88.0     91.0      91.0      92.0      93.0   \n",
       "price         11.0     23.0     25.0     40.0      45.0      62.0      80.0   \n",
       "\n",
       "                 96%       98%       99%       max  \n",
       "Unnamed: 0  124771.2  127370.6  128670.3  129970.0  \n",
       "points          94.0      94.0      95.0     100.0  \n",
       "price           90.0     120.0     150.0    3300.0  "
      ]
     },
     "execution_count": 24,
     "metadata": {},
     "output_type": "execute_result"
    }
   ],
   "source": [
    "num_cols.describe(percentiles=[0.01,0.04,0.05,0.4,0.5,0.75,0.80,0.90,0.95,0.96,0.98,0.99]).T"
   ]
  },
  {
   "cell_type": "code",
   "execution_count": 25,
   "id": "fbf4691f",
   "metadata": {},
   "outputs": [],
   "source": [
    "# we can treat outlier by capping method \n",
    "def outlier(x):\n",
    "    x = x.clip(upper=x.quantile(0.9))\n",
    "    return x "
   ]
  },
  {
   "cell_type": "code",
   "execution_count": 26,
   "id": "c076f9cc",
   "metadata": {},
   "outputs": [],
   "source": [
    "num_cols = num_cols.apply(outlier)"
   ]
  },
  {
   "cell_type": "code",
   "execution_count": 27,
   "id": "c3a2f947",
   "metadata": {},
   "outputs": [
    {
     "data": {
      "text/html": [
       "<div>\n",
       "<style scoped>\n",
       "    .dataframe tbody tr th:only-of-type {\n",
       "        vertical-align: middle;\n",
       "    }\n",
       "\n",
       "    .dataframe tbody tr th {\n",
       "        vertical-align: top;\n",
       "    }\n",
       "\n",
       "    .dataframe thead th {\n",
       "        text-align: right;\n",
       "    }\n",
       "</style>\n",
       "<table border=\"1\" class=\"dataframe\">\n",
       "  <thead>\n",
       "    <tr style=\"text-align: right;\">\n",
       "      <th></th>\n",
       "      <th>count</th>\n",
       "      <th>mean</th>\n",
       "      <th>std</th>\n",
       "      <th>min</th>\n",
       "      <th>1%</th>\n",
       "      <th>4%</th>\n",
       "      <th>5%</th>\n",
       "      <th>40%</th>\n",
       "      <th>50%</th>\n",
       "      <th>75%</th>\n",
       "      <th>80%</th>\n",
       "      <th>90%</th>\n",
       "      <th>95%</th>\n",
       "      <th>96%</th>\n",
       "      <th>98%</th>\n",
       "      <th>99%</th>\n",
       "      <th>max</th>\n",
       "    </tr>\n",
       "  </thead>\n",
       "  <tbody>\n",
       "    <tr>\n",
       "      <th>Unnamed: 0</th>\n",
       "      <td>129971.0</td>\n",
       "      <td>64335.105000</td>\n",
       "      <td>36525.171435</td>\n",
       "      <td>0.0</td>\n",
       "      <td>1299.7</td>\n",
       "      <td>5198.8</td>\n",
       "      <td>6498.5</td>\n",
       "      <td>51988.0</td>\n",
       "      <td>64985.0</td>\n",
       "      <td>97477.5</td>\n",
       "      <td>103976.0</td>\n",
       "      <td>116973.0</td>\n",
       "      <td>116973.0</td>\n",
       "      <td>116973.0</td>\n",
       "      <td>116973.0</td>\n",
       "      <td>116973.0</td>\n",
       "      <td>116973.0</td>\n",
       "    </tr>\n",
       "    <tr>\n",
       "      <th>points</th>\n",
       "      <td>129971.0</td>\n",
       "      <td>88.272545</td>\n",
       "      <td>2.746893</td>\n",
       "      <td>80.0</td>\n",
       "      <td>82.0</td>\n",
       "      <td>83.0</td>\n",
       "      <td>84.0</td>\n",
       "      <td>88.0</td>\n",
       "      <td>88.0</td>\n",
       "      <td>91.0</td>\n",
       "      <td>91.0</td>\n",
       "      <td>92.0</td>\n",
       "      <td>92.0</td>\n",
       "      <td>92.0</td>\n",
       "      <td>92.0</td>\n",
       "      <td>92.0</td>\n",
       "      <td>92.0</td>\n",
       "    </tr>\n",
       "    <tr>\n",
       "      <th>price</th>\n",
       "      <td>129971.0</td>\n",
       "      <td>30.316524</td>\n",
       "      <td>16.205717</td>\n",
       "      <td>4.0</td>\n",
       "      <td>8.0</td>\n",
       "      <td>10.0</td>\n",
       "      <td>11.0</td>\n",
       "      <td>23.0</td>\n",
       "      <td>25.0</td>\n",
       "      <td>40.0</td>\n",
       "      <td>45.0</td>\n",
       "      <td>62.0</td>\n",
       "      <td>62.0</td>\n",
       "      <td>62.0</td>\n",
       "      <td>62.0</td>\n",
       "      <td>62.0</td>\n",
       "      <td>62.0</td>\n",
       "    </tr>\n",
       "  </tbody>\n",
       "</table>\n",
       "</div>"
      ],
      "text/plain": [
       "               count          mean           std   min      1%      4%  \\\n",
       "Unnamed: 0  129971.0  64335.105000  36525.171435   0.0  1299.7  5198.8   \n",
       "points      129971.0     88.272545      2.746893  80.0    82.0    83.0   \n",
       "price       129971.0     30.316524     16.205717   4.0     8.0    10.0   \n",
       "\n",
       "                5%      40%      50%      75%       80%       90%       95%  \\\n",
       "Unnamed: 0  6498.5  51988.0  64985.0  97477.5  103976.0  116973.0  116973.0   \n",
       "points        84.0     88.0     88.0     91.0      91.0      92.0      92.0   \n",
       "price         11.0     23.0     25.0     40.0      45.0      62.0      62.0   \n",
       "\n",
       "                 96%       98%       99%       max  \n",
       "Unnamed: 0  116973.0  116973.0  116973.0  116973.0  \n",
       "points          92.0      92.0      92.0      92.0  \n",
       "price           62.0      62.0      62.0      62.0  "
      ]
     },
     "execution_count": 27,
     "metadata": {},
     "output_type": "execute_result"
    }
   ],
   "source": [
    "num_cols.describe(percentiles=[0.01,0.04,0.05,0.4,0.5,0.75,0.80,0.90,0.95,0.96,0.98,0.99]).T"
   ]
  },
  {
   "cell_type": "code",
   "execution_count": 28,
   "id": "3ef28605",
   "metadata": {},
   "outputs": [],
   "source": [
    "# here we finally done with outliers "
   ]
  },
  {
   "cell_type": "code",
   "execution_count": 29,
   "id": "97e7af37",
   "metadata": {},
   "outputs": [],
   "source": [
    "cat_cols.isnull().sum()\n",
    "cat_cols = cat_cols.dropna()\n"
   ]
  },
  {
   "cell_type": "code",
   "execution_count": 30,
   "id": "e440910c",
   "metadata": {},
   "outputs": [
    {
     "data": {
      "text/plain": [
       "country                  0\n",
       "description              0\n",
       "designation              0\n",
       "province                 0\n",
       "region_1                 0\n",
       "region_2                 0\n",
       "taster_name              0\n",
       "taster_twitter_handle    0\n",
       "title                    0\n",
       "variety                  0\n",
       "winery                   0\n",
       "dtype: int64"
      ]
     },
     "execution_count": 30,
     "metadata": {},
     "output_type": "execute_result"
    }
   ],
   "source": [
    "cat_cols.isnull().sum()"
   ]
  },
  {
   "cell_type": "code",
   "execution_count": 31,
   "id": "e92494b6",
   "metadata": {},
   "outputs": [
    {
     "data": {
      "text/plain": [
       "Unnamed: 0    0\n",
       "points        0\n",
       "price         0\n",
       "dtype: int64"
      ]
     },
     "execution_count": 31,
     "metadata": {},
     "output_type": "execute_result"
    }
   ],
   "source": [
    "num_cols.isnull().sum()"
   ]
  },
  {
   "cell_type": "markdown",
   "id": "5ce7196f",
   "metadata": {},
   "source": [
    "#### cleaned data "
   ]
  },
  {
   "cell_type": "code",
   "execution_count": 32,
   "id": "2e1512b3",
   "metadata": {},
   "outputs": [],
   "source": [
    "final_data = pd.concat([cat_cols,num_cols],axis=1)"
   ]
  },
  {
   "cell_type": "code",
   "execution_count": null,
   "id": "9152688f",
   "metadata": {},
   "outputs": [],
   "source": []
  }
 ],
 "metadata": {
  "kernelspec": {
   "display_name": "Python 3 (ipykernel)",
   "language": "python",
   "name": "python3"
  },
  "language_info": {
   "codemirror_mode": {
    "name": "ipython",
    "version": 3
   },
   "file_extension": ".py",
   "mimetype": "text/x-python",
   "name": "python",
   "nbconvert_exporter": "python",
   "pygments_lexer": "ipython3",
   "version": "3.11.4"
  }
 },
 "nbformat": 4,
 "nbformat_minor": 5
}
